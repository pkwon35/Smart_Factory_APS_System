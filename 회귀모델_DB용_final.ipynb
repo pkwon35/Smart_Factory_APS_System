{
  "nbformat": 4,
  "nbformat_minor": 0,
  "metadata": {
    "colab": {
      "name": "회귀모델_DB용_final.ipynb",
      "provenance": [],
      "collapsed_sections": []
    },
    "kernelspec": {
      "name": "python3",
      "display_name": "Python 3"
    },
    "language_info": {
      "name": "python"
    }
  },
  "cells": [
    {
      "cell_type": "code",
      "metadata": {
        "id": "Zoh5PP_3TXUY",
        "colab": {
          "base_uri": "https://localhost:8080/"
        },
        "outputId": "3e3d1cf7-23cf-46c2-bccc-2295990bb845"
      },
      "source": [
        "from google.colab import drive\n",
        "drive.mount('/content/drive')"
      ],
      "execution_count": 2,
      "outputs": [
        {
          "output_type": "stream",
          "name": "stdout",
          "text": [
            "Go to this URL in a browser: https://accounts.google.com/o/oauth2/auth?client_id=947318989803-6bn6qk8qdgf4n4g3pfee6491hc0brc4i.apps.googleusercontent.com&redirect_uri=urn%3aietf%3awg%3aoauth%3a2.0%3aoob&scope=email%20https%3a%2f%2fwww.googleapis.com%2fauth%2fdocs.test%20https%3a%2f%2fwww.googleapis.com%2fauth%2fdrive%20https%3a%2f%2fwww.googleapis.com%2fauth%2fdrive.photos.readonly%20https%3a%2f%2fwww.googleapis.com%2fauth%2fpeopleapi.readonly%20https%3a%2f%2fwww.googleapis.com%2fauth%2fdrive.activity.readonly%20https%3a%2f%2fwww.googleapis.com%2fauth%2fexperimentsandconfigs%20https%3a%2f%2fwww.googleapis.com%2fauth%2fphotos.native&response_type=code\n",
            "\n",
            "Enter your authorization code:\n",
            "4/1AX4XfWjXDhUcwibguXnJO_7-aXZSnPnpBzpQwO0awdHM_Yw9ZaLT1qKGD-A\n",
            "Mounted at /content/drive\n"
          ]
        }
      ]
    },
    {
      "cell_type": "code",
      "metadata": {
        "id": "8MrNApqETb9y",
        "colab": {
          "base_uri": "https://localhost:8080/",
          "height": 810
        },
        "outputId": "28e82707-ed7e-4a63-9443-92573babe930"
      },
      "source": [
        "!pip3 install pickle5\n",
        "!pip install --upgrade pandas\n",
        "!pip uninstall openpyxl\n",
        "!pip install openpyxl"
      ],
      "execution_count": 3,
      "outputs": [
        {
          "output_type": "stream",
          "name": "stdout",
          "text": [
            "Collecting pickle5\n",
            "  Downloading pickle5-0.0.11.tar.gz (132 kB)\n",
            "\u001b[?25l\r\u001b[K     |██▌                             | 10 kB 27.2 MB/s eta 0:00:01\r\u001b[K     |█████                           | 20 kB 36.6 MB/s eta 0:00:01\r\u001b[K     |███████▍                        | 30 kB 43.8 MB/s eta 0:00:01\r\u001b[K     |██████████                      | 40 kB 29.3 MB/s eta 0:00:01\r\u001b[K     |████████████▍                   | 51 kB 17.5 MB/s eta 0:00:01\r\u001b[K     |██████████████▉                 | 61 kB 18.7 MB/s eta 0:00:01\r\u001b[K     |█████████████████▍              | 71 kB 13.5 MB/s eta 0:00:01\r\u001b[K     |███████████████████▉            | 81 kB 14.9 MB/s eta 0:00:01\r\u001b[K     |██████████████████████▎         | 92 kB 13.5 MB/s eta 0:00:01\r\u001b[K     |████████████████████████▉       | 102 kB 14.4 MB/s eta 0:00:01\r\u001b[K     |███████████████████████████▎    | 112 kB 14.4 MB/s eta 0:00:01\r\u001b[K     |█████████████████████████████▊  | 122 kB 14.4 MB/s eta 0:00:01\r\u001b[K     |████████████████████████████████| 132 kB 14.4 MB/s \n",
            "\u001b[?25hBuilding wheels for collected packages: pickle5\n",
            "  Building wheel for pickle5 (setup.py) ... \u001b[?25l\u001b[?25hdone\n",
            "  Created wheel for pickle5: filename=pickle5-0.0.11-cp37-cp37m-linux_x86_64.whl size=219329 sha256=7816c832240e69c874b676008d3c4f779982a04b35a6092ebba5a0ef9fd0a9d8\n",
            "  Stored in directory: /root/.cache/pip/wheels/7e/6a/00/67136a90d6aca437d806d1d3cedf98106e840c97a3e5188198\n",
            "Successfully built pickle5\n",
            "Installing collected packages: pickle5\n",
            "Successfully installed pickle5-0.0.11\n",
            "Requirement already satisfied: pandas in /usr/local/lib/python3.7/dist-packages (1.1.5)\n",
            "Collecting pandas\n",
            "  Downloading pandas-1.3.4-cp37-cp37m-manylinux_2_17_x86_64.manylinux2014_x86_64.whl (11.3 MB)\n",
            "\u001b[K     |████████████████████████████████| 11.3 MB 15.2 MB/s \n",
            "\u001b[?25hRequirement already satisfied: numpy>=1.17.3 in /usr/local/lib/python3.7/dist-packages (from pandas) (1.19.5)\n",
            "Requirement already satisfied: python-dateutil>=2.7.3 in /usr/local/lib/python3.7/dist-packages (from pandas) (2.8.2)\n",
            "Requirement already satisfied: pytz>=2017.3 in /usr/local/lib/python3.7/dist-packages (from pandas) (2018.9)\n",
            "Requirement already satisfied: six>=1.5 in /usr/local/lib/python3.7/dist-packages (from python-dateutil>=2.7.3->pandas) (1.15.0)\n",
            "Installing collected packages: pandas\n",
            "  Attempting uninstall: pandas\n",
            "    Found existing installation: pandas 1.1.5\n",
            "    Uninstalling pandas-1.1.5:\n",
            "      Successfully uninstalled pandas-1.1.5\n",
            "\u001b[31mERROR: pip's dependency resolver does not currently take into account all the packages that are installed. This behaviour is the source of the following dependency conflicts.\n",
            "google-colab 1.0.0 requires pandas~=1.1.0; python_version >= \"3.0\", but you have pandas 1.3.4 which is incompatible.\u001b[0m\n",
            "Successfully installed pandas-1.3.4\n"
          ]
        },
        {
          "output_type": "display_data",
          "data": {
            "application/vnd.colab-display-data+json": {
              "pip_warning": {
                "packages": [
                  "pandas"
                ]
              }
            }
          },
          "metadata": {}
        },
        {
          "output_type": "stream",
          "name": "stdout",
          "text": [
            "Found existing installation: openpyxl 2.5.9\n",
            "Uninstalling openpyxl-2.5.9:\n",
            "  Would remove:\n",
            "    /usr/local/lib/python3.7/dist-packages/openpyxl-2.5.9.dist-info/*\n",
            "    /usr/local/lib/python3.7/dist-packages/openpyxl/*\n",
            "Proceed (y/n)? y\n",
            "  Successfully uninstalled openpyxl-2.5.9\n",
            "Collecting openpyxl\n",
            "  Downloading openpyxl-3.0.9-py2.py3-none-any.whl (242 kB)\n",
            "\u001b[K     |████████████████████████████████| 242 kB 14.6 MB/s \n",
            "\u001b[?25hRequirement already satisfied: et-xmlfile in /usr/local/lib/python3.7/dist-packages (from openpyxl) (1.1.0)\n",
            "Installing collected packages: openpyxl\n",
            "Successfully installed openpyxl-3.0.9\n"
          ]
        }
      ]
    },
    {
      "cell_type": "code",
      "metadata": {
        "colab": {
          "base_uri": "https://localhost:8080/",
          "height": 419
        },
        "id": "ouUfwKP9TiVj",
        "outputId": "e433c7ec-f013-4ad2-9337-b5033e930af0"
      },
      "source": [
        "import pandas as pd\n",
        "import numpy as np\n",
        "import warnings\n",
        "warnings.filterwarnings('ignore')\n",
        "from sklearn.ensemble import RandomForestRegressor\n",
        "from xgboost import XGBRegressor\n",
        "import pickle5 as pickle\n",
        "from dateutil.relativedelta import relativedelta\n",
        "from datetime import datetime, timedelta\n",
        "import joblib\n",
        "\n",
        "\n",
        "\n",
        "# 시계열로 예측한 예측중량 독립변수로 사용\n",
        "with open('/content/drive/MyDrive/5조_스마트팩토리/mariadb_tables_pkl/중장기수주예측.pkl', \"rb\") as fh:\n",
        "  중장기수주예측 = pickle.load(fh)\n",
        "# std_date = datetime.today().strftime('%Y-%m-%d')\n",
        "# std_date = pd.to_datetime(today,format='%Y-%m-%d') ##실제 사용할 때는 today를 std_date로 \n",
        "std_date = datetime.strptime(\"2021-04-25\", \"%Y-%m-%d\")\n",
        "end_date = std_date + relativedelta(days=95)\n",
        "중장기수주예측 = 중장기수주예측[(중장기수주예측['납기일자']>=std_date) & (중장기수주예측['납기일자']<=end_date)]\n",
        "\n",
        "df = 중장기수주예측.copy()\n",
        "df.set_index('납기일자',inplace=True)\n",
        "df['예측중량'] = np.log1p(df['예측중량'])\n",
        "df.fillna(0,inplace=True)\n",
        "\n",
        "\n",
        "# std_date 기준으로 최근 2년치 건축착공면적의 월별 평균을 독립변수로 사용\n",
        "with open('/content/drive/MyDrive/5조_스마트팩토리/mariadb_tables_pkl/건축착공면적.pkl', \"rb\") as fh:\n",
        "  건축착공면적 = pickle.load(fh)\n",
        "건축착공면적['TIME'] = pd.to_datetime(건축착공면적['TIME'],format='%Y%m')\n",
        "# std_date = datetime.today().strftime('%Y-%m-%d')\n",
        "# std_date = pd.to_datetime(today,format='%Y-%m-%d')  ##실제 사용할 때는 today를 std_date로 \n",
        "std_date = datetime.strptime('2021-04-25', '%Y-%m-%d')\n",
        "start_date = std_date - relativedelta(years=2)\n",
        "\n",
        "def cat(df):\n",
        "  df = df[df['TIME']>=start_date]\n",
        "  df['month'] = df.TIME.dt.month\n",
        "  df = pd.DataFrame(df.groupby('month')['건축착공면적'].mean())\n",
        "  df.reset_index(inplace=True)\n",
        "  return df\n",
        "\n",
        "건축착공면적 = cat(건축착공면적)\n",
        "\n",
        "df.reset_index(inplace=True)\n",
        "df['month'] = df['납기일자'].dt.month\n",
        "# data['year'] = data['납기일자'].dt.year\n",
        "df = pd.merge(df, 건축착공면적, on='month', how='left')\n",
        "df.set_index('납기일자',inplace=True)\n",
        "\n",
        "# 원핫인코딩\n",
        "df = pd.get_dummies(df)\n",
        "df.reset_index(inplace=True)\n",
        "X_test = df.drop(['납기일자','month'], axis =1)\n",
        "\n",
        "\n",
        "# 저장한 모델 불러오기\n",
        "grid_rf = joblib.load('/content/drive/MyDrive/5조_스마트팩토리/권준기/배송이_예측모델/회귀모델_save_final/grid_rf.joblib.dat')\n",
        "\n",
        "# 예측\n",
        "pred_rf = grid_rf.predict(X_test)\n",
        "\n",
        "\n",
        "# 예측량과 납기일자, 제품명 concat\n",
        "pred = pd.DataFrame(pred_rf,columns=['생산량'])\n",
        "pred['생산량'] = np.ceil(np.expm1(pred.생산량))\n",
        "중장기수주예측 = 중장기수주예측[['납기일자','제품명']]\n",
        "중장기수주예측.reset_index(drop=True,inplace=True)\n",
        "생판계획 = pd.concat([중장기수주예측,pred],axis=1)\n",
        "\n",
        "생판계획.sort_values(by='납기일자',ascending=True,inplace=True)\n",
        "생판계획.reset_index(drop=True,inplace=True)\n",
        "생판계획"
      ],
      "execution_count": 1,
      "outputs": [
        {
          "output_type": "execute_result",
          "data": {
            "text/html": [
              "<div>\n",
              "<style scoped>\n",
              "    .dataframe tbody tr th:only-of-type {\n",
              "        vertical-align: middle;\n",
              "    }\n",
              "\n",
              "    .dataframe tbody tr th {\n",
              "        vertical-align: top;\n",
              "    }\n",
              "\n",
              "    .dataframe thead th {\n",
              "        text-align: right;\n",
              "    }\n",
              "</style>\n",
              "<table border=\"1\" class=\"dataframe\">\n",
              "  <thead>\n",
              "    <tr style=\"text-align: right;\">\n",
              "      <th></th>\n",
              "      <th>납기일자</th>\n",
              "      <th>제품명</th>\n",
              "      <th>생산량</th>\n",
              "    </tr>\n",
              "  </thead>\n",
              "  <tbody>\n",
              "    <tr>\n",
              "      <th>0</th>\n",
              "      <td>2021-04-25</td>\n",
              "      <td>AE</td>\n",
              "      <td>1099.0</td>\n",
              "    </tr>\n",
              "    <tr>\n",
              "      <th>1</th>\n",
              "      <td>2021-04-25</td>\n",
              "      <td>SRE-200</td>\n",
              "      <td>12749.0</td>\n",
              "    </tr>\n",
              "    <tr>\n",
              "      <th>2</th>\n",
              "      <td>2021-04-25</td>\n",
              "      <td>SRE-110</td>\n",
              "      <td>2747.0</td>\n",
              "    </tr>\n",
              "    <tr>\n",
              "      <th>3</th>\n",
              "      <td>2021-04-25</td>\n",
              "      <td>PR1000</td>\n",
              "      <td>12367.0</td>\n",
              "    </tr>\n",
              "    <tr>\n",
              "      <th>4</th>\n",
              "      <td>2021-04-25</td>\n",
              "      <td>PEMA-SR5000F</td>\n",
              "      <td>4521.0</td>\n",
              "    </tr>\n",
              "    <tr>\n",
              "      <th>...</th>\n",
              "      <td>...</td>\n",
              "      <td>...</td>\n",
              "      <td>...</td>\n",
              "    </tr>\n",
              "    <tr>\n",
              "      <th>1680</th>\n",
              "      <td>2021-07-29</td>\n",
              "      <td>CSA4000</td>\n",
              "      <td>5718.0</td>\n",
              "    </tr>\n",
              "    <tr>\n",
              "      <th>1681</th>\n",
              "      <td>2021-07-29</td>\n",
              "      <td>AE</td>\n",
              "      <td>835.0</td>\n",
              "    </tr>\n",
              "    <tr>\n",
              "      <th>1682</th>\n",
              "      <td>2021-07-29</td>\n",
              "      <td>PEMA-SR2000A</td>\n",
              "      <td>5040.0</td>\n",
              "    </tr>\n",
              "    <tr>\n",
              "      <th>1683</th>\n",
              "      <td>2021-07-29</td>\n",
              "      <td>PEMA-HR1500</td>\n",
              "      <td>19853.0</td>\n",
              "    </tr>\n",
              "    <tr>\n",
              "      <th>1684</th>\n",
              "      <td>2021-07-29</td>\n",
              "      <td>PEMA-SR3000F</td>\n",
              "      <td>4442.0</td>\n",
              "    </tr>\n",
              "  </tbody>\n",
              "</table>\n",
              "<p>1685 rows × 3 columns</p>\n",
              "</div>"
            ],
            "text/plain": [
              "           납기일자           제품명      생산량\n",
              "0    2021-04-25            AE   1099.0\n",
              "1    2021-04-25       SRE-200  12749.0\n",
              "2    2021-04-25       SRE-110   2747.0\n",
              "3    2021-04-25        PR1000  12367.0\n",
              "4    2021-04-25  PEMA-SR5000F   4521.0\n",
              "...         ...           ...      ...\n",
              "1680 2021-07-29       CSA4000   5718.0\n",
              "1681 2021-07-29            AE    835.0\n",
              "1682 2021-07-29  PEMA-SR2000A   5040.0\n",
              "1683 2021-07-29   PEMA-HR1500  19853.0\n",
              "1684 2021-07-29  PEMA-SR3000F   4442.0\n",
              "\n",
              "[1685 rows x 3 columns]"
            ]
          },
          "metadata": {},
          "execution_count": 1
        }
      ]
    }
  ]
}